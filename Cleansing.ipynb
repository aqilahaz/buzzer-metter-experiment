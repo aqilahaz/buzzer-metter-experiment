{
 "cells": [
  {
   "cell_type": "code",
   "execution_count": 2,
   "metadata": {},
   "outputs": [],
   "source": [
    "import pandas as pd"
   ]
  },
  {
   "cell_type": "code",
   "execution_count": 20,
   "metadata": {},
   "outputs": [],
   "source": [
    "buzzer=pd.read_csv('Dataset/buzzer.csv')"
   ]
  },
  {
   "cell_type": "code",
   "execution_count": 21,
   "metadata": {},
   "outputs": [
    {
     "data": {
      "text/plain": [
       "(400, 22)"
      ]
     },
     "execution_count": 21,
     "metadata": {},
     "output_type": "execute_result"
    }
   ],
   "source": [
    "buzzer.shape"
   ]
  },
  {
   "cell_type": "code",
   "execution_count": 22,
   "metadata": {},
   "outputs": [
    {
     "data": {
      "text/html": [
       "<div>\n",
       "<style scoped>\n",
       "    .dataframe tbody tr th:only-of-type {\n",
       "        vertical-align: middle;\n",
       "    }\n",
       "\n",
       "    .dataframe tbody tr th {\n",
       "        vertical-align: top;\n",
       "    }\n",
       "\n",
       "    .dataframe thead th {\n",
       "        text-align: right;\n",
       "    }\n",
       "</style>\n",
       "<table border=\"1\" class=\"dataframe\">\n",
       "  <thead>\n",
       "    <tr style=\"text-align: right;\">\n",
       "      <th></th>\n",
       "      <th>username</th>\n",
       "      <th>name</th>\n",
       "      <th>user_id</th>\n",
       "      <th>created_at</th>\n",
       "      <th>likes_count</th>\n",
       "      <th>hashtags</th>\n",
       "      <th>conversation_id</th>\n",
       "      <th>urls</th>\n",
       "      <th>mentions</th>\n",
       "      <th>Categories</th>\n",
       "      <th>...</th>\n",
       "      <th>replies_count</th>\n",
       "      <th>retweets_count</th>\n",
       "      <th>link</th>\n",
       "      <th>retweet</th>\n",
       "      <th>quote_url</th>\n",
       "      <th>video</th>\n",
       "      <th>new_date</th>\n",
       "      <th>new_time</th>\n",
       "      <th>hashtag</th>\n",
       "      <th>hashtag_count</th>\n",
       "    </tr>\n",
       "  </thead>\n",
       "  <tbody>\n",
       "    <tr>\n",
       "      <th>0</th>\n",
       "      <td>muhyi_goobeh</td>\n",
       "      <td>muhyi_goobeh</td>\n",
       "      <td>3.322682e+09</td>\n",
       "      <td>2020-11-12 21:05:57</td>\n",
       "      <td>1.0</td>\n",
       "      <td>['welcomebackhrs']</td>\n",
       "      <td>1.326889e+18</td>\n",
       "      <td>[]</td>\n",
       "      <td>[]</td>\n",
       "      <td>Buzzer</td>\n",
       "      <td>...</td>\n",
       "      <td>0.0</td>\n",
       "      <td>0.0</td>\n",
       "      <td>https://twitter.com/muhyi_goobeh/status/132688...</td>\n",
       "      <td>0.0</td>\n",
       "      <td>https://twitter.com/MuhammaD19s/status/1326784...</td>\n",
       "      <td>0.0</td>\n",
       "      <td>2020-11-12 00:00:00</td>\n",
       "      <td>21:05:57</td>\n",
       "      <td>['welcomebackhrs']</td>\n",
       "      <td>1.0</td>\n",
       "    </tr>\n",
       "    <tr>\n",
       "      <th>1</th>\n",
       "      <td>narasipost</td>\n",
       "      <td>narasipost.com</td>\n",
       "      <td>1.314725e+18</td>\n",
       "      <td>2020-11-12 19:53:40</td>\n",
       "      <td>1.0</td>\n",
       "      <td>['welcomebackibhrs', 'welcomebackhrs']</td>\n",
       "      <td>1.326871e+18</td>\n",
       "      <td>['https://narasipost.com/selamat-datang-sang-h...</td>\n",
       "      <td>[]</td>\n",
       "      <td>Buzzer</td>\n",
       "      <td>...</td>\n",
       "      <td>0.0</td>\n",
       "      <td>0.0</td>\n",
       "      <td>https://twitter.com/narasipost/status/13268707...</td>\n",
       "      <td>0.0</td>\n",
       "      <td>NaN</td>\n",
       "      <td>0.0</td>\n",
       "      <td>2020-11-12 00:00:00</td>\n",
       "      <td>19:53:40</td>\n",
       "      <td>['welcomebackibhrs', 'welcomebackhrs']</td>\n",
       "      <td>2.0</td>\n",
       "    </tr>\n",
       "    <tr>\n",
       "      <th>2</th>\n",
       "      <td>lurahtajir1</td>\n",
       "      <td>Lurah Tajir</td>\n",
       "      <td>1.291090e+18</td>\n",
       "      <td>2020-11-12 13:16:33</td>\n",
       "      <td>1.0</td>\n",
       "      <td>['welcomebackibhrs', 'welcomebackhrs', 'welcom...</td>\n",
       "      <td>1.326665e+18</td>\n",
       "      <td>[]</td>\n",
       "      <td>[]</td>\n",
       "      <td>Buzzer</td>\n",
       "      <td>...</td>\n",
       "      <td>0.0</td>\n",
       "      <td>0.0</td>\n",
       "      <td>https://twitter.com/Lurahtajir1/status/1326770...</td>\n",
       "      <td>0.0</td>\n",
       "      <td>NaN</td>\n",
       "      <td>0.0</td>\n",
       "      <td>2020-11-12 00:00:00</td>\n",
       "      <td>13:16:33</td>\n",
       "      <td>['welcomebackibhrs', 'welcomebackhrs', 'welcom...</td>\n",
       "      <td>3.0</td>\n",
       "    </tr>\n",
       "    <tr>\n",
       "      <th>3</th>\n",
       "      <td>trendingviralo</td>\n",
       "      <td>Viralo Trending</td>\n",
       "      <td>1.326002e+18</td>\n",
       "      <td>2020-11-12 08:36:23</td>\n",
       "      <td>0.0</td>\n",
       "      <td>['welcomehomeibhrs', 'welcomebackhrs']</td>\n",
       "      <td>1.326700e+18</td>\n",
       "      <td>['https://youtu.be/HKhmkkBre7s']</td>\n",
       "      <td>[]</td>\n",
       "      <td>Buzzer</td>\n",
       "      <td>...</td>\n",
       "      <td>0.0</td>\n",
       "      <td>0.0</td>\n",
       "      <td>https://twitter.com/TrendingViralo/status/1326...</td>\n",
       "      <td>0.0</td>\n",
       "      <td>NaN</td>\n",
       "      <td>0.0</td>\n",
       "      <td>2020-11-12 00:00:00</td>\n",
       "      <td>08:36:23</td>\n",
       "      <td>['welcomehomeibhrs', 'welcomebackhrs']</td>\n",
       "      <td>2.0</td>\n",
       "    </tr>\n",
       "    <tr>\n",
       "      <th>4</th>\n",
       "      <td>eny86315895</td>\n",
       "      <td>@en_y466</td>\n",
       "      <td>1.304949e+18</td>\n",
       "      <td>2020-11-12 06:41:55</td>\n",
       "      <td>0.0</td>\n",
       "      <td>['welcomebackhrs', 'welcomehomeibhrs']</td>\n",
       "      <td>1.326672e+18</td>\n",
       "      <td>[]</td>\n",
       "      <td>[]</td>\n",
       "      <td>Buzzer</td>\n",
       "      <td>...</td>\n",
       "      <td>0.0</td>\n",
       "      <td>0.0</td>\n",
       "      <td>https://twitter.com/eny86315895/status/1326671...</td>\n",
       "      <td>0.0</td>\n",
       "      <td>https://twitter.com/fadlizon/status/1326038891...</td>\n",
       "      <td>0.0</td>\n",
       "      <td>2020-11-12 00:00:00</td>\n",
       "      <td>06:41:55</td>\n",
       "      <td>['welcomebackhrs', 'welcomehomeibhrs']</td>\n",
       "      <td>2.0</td>\n",
       "    </tr>\n",
       "  </tbody>\n",
       "</table>\n",
       "<p>5 rows × 22 columns</p>\n",
       "</div>"
      ],
      "text/plain": [
       "         username             name       user_id           created_at  \\\n",
       "0    muhyi_goobeh     muhyi_goobeh  3.322682e+09  2020-11-12 21:05:57   \n",
       "1      narasipost   narasipost.com  1.314725e+18  2020-11-12 19:53:40   \n",
       "2     lurahtajir1      Lurah Tajir  1.291090e+18  2020-11-12 13:16:33   \n",
       "3  trendingviralo  Viralo Trending  1.326002e+18  2020-11-12 08:36:23   \n",
       "4     eny86315895         @en_y466  1.304949e+18  2020-11-12 06:41:55   \n",
       "\n",
       "   likes_count                                           hashtags  \\\n",
       "0          1.0                                 ['welcomebackhrs']   \n",
       "1          1.0             ['welcomebackibhrs', 'welcomebackhrs']   \n",
       "2          1.0  ['welcomebackibhrs', 'welcomebackhrs', 'welcom...   \n",
       "3          0.0             ['welcomehomeibhrs', 'welcomebackhrs']   \n",
       "4          0.0             ['welcomebackhrs', 'welcomehomeibhrs']   \n",
       "\n",
       "   conversation_id                                               urls  \\\n",
       "0     1.326889e+18                                                 []   \n",
       "1     1.326871e+18  ['https://narasipost.com/selamat-datang-sang-h...   \n",
       "2     1.326665e+18                                                 []   \n",
       "3     1.326700e+18                   ['https://youtu.be/HKhmkkBre7s']   \n",
       "4     1.326672e+18                                                 []   \n",
       "\n",
       "  mentions Categories  ... replies_count retweets_count  \\\n",
       "0       []     Buzzer  ...           0.0            0.0   \n",
       "1       []     Buzzer  ...           0.0            0.0   \n",
       "2       []     Buzzer  ...           0.0            0.0   \n",
       "3       []     Buzzer  ...           0.0            0.0   \n",
       "4       []     Buzzer  ...           0.0            0.0   \n",
       "\n",
       "                                                link  retweet  \\\n",
       "0  https://twitter.com/muhyi_goobeh/status/132688...      0.0   \n",
       "1  https://twitter.com/narasipost/status/13268707...      0.0   \n",
       "2  https://twitter.com/Lurahtajir1/status/1326770...      0.0   \n",
       "3  https://twitter.com/TrendingViralo/status/1326...      0.0   \n",
       "4  https://twitter.com/eny86315895/status/1326671...      0.0   \n",
       "\n",
       "                                           quote_url  video  \\\n",
       "0  https://twitter.com/MuhammaD19s/status/1326784...    0.0   \n",
       "1                                                NaN    0.0   \n",
       "2                                                NaN    0.0   \n",
       "3                                                NaN    0.0   \n",
       "4  https://twitter.com/fadlizon/status/1326038891...    0.0   \n",
       "\n",
       "              new_date  new_time  \\\n",
       "0  2020-11-12 00:00:00  21:05:57   \n",
       "1  2020-11-12 00:00:00  19:53:40   \n",
       "2  2020-11-12 00:00:00  13:16:33   \n",
       "3  2020-11-12 00:00:00  08:36:23   \n",
       "4  2020-11-12 00:00:00  06:41:55   \n",
       "\n",
       "                                             hashtag hashtag_count  \n",
       "0                                 ['welcomebackhrs']           1.0  \n",
       "1             ['welcomebackibhrs', 'welcomebackhrs']           2.0  \n",
       "2  ['welcomebackibhrs', 'welcomebackhrs', 'welcom...           3.0  \n",
       "3             ['welcomehomeibhrs', 'welcomebackhrs']           2.0  \n",
       "4             ['welcomebackhrs', 'welcomehomeibhrs']           2.0  \n",
       "\n",
       "[5 rows x 22 columns]"
      ]
     },
     "execution_count": 22,
     "metadata": {},
     "output_type": "execute_result"
    }
   ],
   "source": [
    "buzzer.head(5)"
   ]
  },
  {
   "cell_type": "code",
   "execution_count": 52,
   "metadata": {},
   "outputs": [
    {
     "data": {
      "text/plain": [
       "username           object\n",
       "name               object\n",
       "user_id             int64\n",
       "created_at         object\n",
       "likes_count         int64\n",
       "conversation_id     int64\n",
       "urls               object\n",
       "mentions           object\n",
       "Categories         object\n",
       "tweet              object\n",
       "photos             object\n",
       "replies_count       int64\n",
       "retweets_count      int64\n",
       "link               object\n",
       "retweet              bool\n",
       "quote_url          object\n",
       "video               int64\n",
       "hashtag            object\n",
       "hashtag_count       int64\n",
       "dtype: object"
      ]
     },
     "execution_count": 52,
     "metadata": {},
     "output_type": "execute_result"
    }
   ],
   "source": [
    "df.dtypes"
   ]
  },
  {
   "cell_type": "code",
   "execution_count": 53,
   "metadata": {},
   "outputs": [
    {
     "data": {
      "text/plain": [
       "username            object\n",
       "name                object\n",
       "user_id            float64\n",
       "created_at          object\n",
       "likes_count        float64\n",
       "hashtags            object\n",
       "conversation_id    float64\n",
       "urls                object\n",
       "mentions            object\n",
       "Categories          object\n",
       "tweet               object\n",
       "photos              object\n",
       "replies_count      float64\n",
       "retweets_count     float64\n",
       "link                object\n",
       "retweet            float64\n",
       "quote_url           object\n",
       "video              float64\n",
       "new_date            object\n",
       "new_time            object\n",
       "hashtag             object\n",
       "hashtag_count      float64\n",
       "dtype: object"
      ]
     },
     "execution_count": 53,
     "metadata": {},
     "output_type": "execute_result"
    }
   ],
   "source": [
    "buzzer.dtypes"
   ]
  },
  {
   "cell_type": "code",
   "execution_count": 41,
   "metadata": {},
   "outputs": [],
   "source": [
    "df=pd.read_excel('Dataset/nonbuzzer.xlsx')"
   ]
  },
  {
   "cell_type": "code",
   "execution_count": 42,
   "metadata": {},
   "outputs": [
    {
     "data": {
      "text/plain": [
       "(400, 18)"
      ]
     },
     "execution_count": 42,
     "metadata": {},
     "output_type": "execute_result"
    }
   ],
   "source": [
    "df.shape"
   ]
  },
  {
   "cell_type": "code",
   "execution_count": 43,
   "metadata": {},
   "outputs": [],
   "source": [
    "import ast\n",
    "df['hashtags2'] = df['hashtags'].apply(lambda x: ast.literal_eval(x))"
   ]
  },
  {
   "cell_type": "code",
   "execution_count": 45,
   "metadata": {},
   "outputs": [],
   "source": [
    "df['Length'] = df['hashtags2'].str.len()"
   ]
  },
  {
   "cell_type": "code",
   "execution_count": 47,
   "metadata": {},
   "outputs": [],
   "source": [
    "df = df.rename(columns={'Length': 'hashtag_count', 'hashtags2': 'hashtag'})"
   ]
  },
  {
   "cell_type": "code",
   "execution_count": 48,
   "metadata": {},
   "outputs": [
    {
     "data": {
      "text/plain": [
       "400"
      ]
     },
     "execution_count": 48,
     "metadata": {},
     "output_type": "execute_result"
    }
   ],
   "source": [
    "len(df)"
   ]
  },
  {
   "cell_type": "code",
   "execution_count": 50,
   "metadata": {},
   "outputs": [],
   "source": [
    "df.drop(['hashtags'], axis=1, inplace=True)"
   ]
  },
  {
   "cell_type": "code",
   "execution_count": 61,
   "metadata": {},
   "outputs": [
    {
     "data": {
      "text/html": [
       "<div>\n",
       "<style scoped>\n",
       "    .dataframe tbody tr th:only-of-type {\n",
       "        vertical-align: middle;\n",
       "    }\n",
       "\n",
       "    .dataframe tbody tr th {\n",
       "        vertical-align: top;\n",
       "    }\n",
       "\n",
       "    .dataframe thead th {\n",
       "        text-align: right;\n",
       "    }\n",
       "</style>\n",
       "<table border=\"1\" class=\"dataframe\">\n",
       "  <thead>\n",
       "    <tr style=\"text-align: right;\">\n",
       "      <th></th>\n",
       "      <th>username</th>\n",
       "      <th>name</th>\n",
       "      <th>user_id</th>\n",
       "      <th>created_at</th>\n",
       "      <th>likes_count</th>\n",
       "      <th>conversation_id</th>\n",
       "      <th>urls</th>\n",
       "      <th>mentions</th>\n",
       "      <th>Categories</th>\n",
       "      <th>tweet</th>\n",
       "      <th>photos</th>\n",
       "      <th>replies_count</th>\n",
       "      <th>retweets_count</th>\n",
       "      <th>link</th>\n",
       "      <th>retweet</th>\n",
       "      <th>quote_url</th>\n",
       "      <th>video</th>\n",
       "      <th>hashtag</th>\n",
       "      <th>hashtag_count</th>\n",
       "    </tr>\n",
       "  </thead>\n",
       "  <tbody>\n",
       "    <tr>\n",
       "      <th>0</th>\n",
       "      <td>giggleslkoo</td>\n",
       "      <td>atha ≮</td>\n",
       "      <td>1303656337277029888</td>\n",
       "      <td>2020-11-13 06:57:33 SE Asia Standard Time</td>\n",
       "      <td>0</td>\n",
       "      <td>1327037850643169024</td>\n",
       "      <td>[]</td>\n",
       "      <td>[]</td>\n",
       "      <td>non</td>\n",
       "      <td>jimin gabisa santai banget itu  https://t.co/q...</td>\n",
       "      <td>['https://pbs.twimg.com/media/EmqV5CvVQAABipt....</td>\n",
       "      <td>1</td>\n",
       "      <td>0</td>\n",
       "      <td>https://twitter.com/giggleslkoo/status/1327037...</td>\n",
       "      <td>False</td>\n",
       "      <td>NaN</td>\n",
       "      <td>1</td>\n",
       "      <td>[]</td>\n",
       "      <td>0</td>\n",
       "    </tr>\n",
       "    <tr>\n",
       "      <th>1</th>\n",
       "      <td>kanggendang95</td>\n",
       "      <td>Zy 🌻🌻🌻</td>\n",
       "      <td>1151058589714243968</td>\n",
       "      <td>2020-11-13 06:52:47 SE Asia Standard Time</td>\n",
       "      <td>0</td>\n",
       "      <td>1326906357623173120</td>\n",
       "      <td>[]</td>\n",
       "      <td>[]</td>\n",
       "      <td>non</td>\n",
       "      <td>@koplakjae Kata kata daris yang ini buat gua k...</td>\n",
       "      <td>['https://pbs.twimg.com/media/EmqUxShUYAAyUIx....</td>\n",
       "      <td>0</td>\n",
       "      <td>0</td>\n",
       "      <td>https://twitter.com/kanggendang95/status/13270...</td>\n",
       "      <td>False</td>\n",
       "      <td>NaN</td>\n",
       "      <td>1</td>\n",
       "      <td>[]</td>\n",
       "      <td>0</td>\n",
       "    </tr>\n",
       "    <tr>\n",
       "      <th>2</th>\n",
       "      <td>h0horizon</td>\n",
       "      <td>skr print shop</td>\n",
       "      <td>919197460475473920</td>\n",
       "      <td>2020-11-13 06:52:19 SE Asia Standard Time</td>\n",
       "      <td>13</td>\n",
       "      <td>1327036534583820032</td>\n",
       "      <td>[]</td>\n",
       "      <td>[]</td>\n",
       "      <td>non</td>\n",
       "      <td>“perasaan mama dulu ips santai bgt, kok km nug...</td>\n",
       "      <td>[]</td>\n",
       "      <td>2</td>\n",
       "      <td>0</td>\n",
       "      <td>https://twitter.com/h0horizon/status/132703653...</td>\n",
       "      <td>False</td>\n",
       "      <td>NaN</td>\n",
       "      <td>0</td>\n",
       "      <td>[]</td>\n",
       "      <td>0</td>\n",
       "    </tr>\n",
       "    <tr>\n",
       "      <th>3</th>\n",
       "      <td>dewfa5</td>\n",
       "      <td>⁷⟭⟬Dew.fà🌌</td>\n",
       "      <td>1151643535680033024</td>\n",
       "      <td>2020-11-13 06:51:48 SE Asia Standard Time</td>\n",
       "      <td>0</td>\n",
       "      <td>1326842920360505088</td>\n",
       "      <td>[]</td>\n",
       "      <td>[]</td>\n",
       "      <td>non</td>\n",
       "      <td>@shyuk_kiyowo Style bff cantik banget, keliata...</td>\n",
       "      <td>[]</td>\n",
       "      <td>0</td>\n",
       "      <td>0</td>\n",
       "      <td>https://twitter.com/Dewfa5/status/132703640563...</td>\n",
       "      <td>False</td>\n",
       "      <td>NaN</td>\n",
       "      <td>0</td>\n",
       "      <td>[]</td>\n",
       "      <td>0</td>\n",
       "    </tr>\n",
       "    <tr>\n",
       "      <th>4</th>\n",
       "      <td>ususkecil</td>\n",
       "      <td>Terasi</td>\n",
       "      <td>1071693739989458944</td>\n",
       "      <td>2020-11-13 06:50:38 SE Asia Standard Time</td>\n",
       "      <td>0</td>\n",
       "      <td>1327033532334498048</td>\n",
       "      <td>[]</td>\n",
       "      <td>[]</td>\n",
       "      <td>non</td>\n",
       "      <td>@collegemenfess Semangat yaaa, kamu pasti bisa...</td>\n",
       "      <td>[]</td>\n",
       "      <td>0</td>\n",
       "      <td>0</td>\n",
       "      <td>https://twitter.com/ususkecil/status/132703611...</td>\n",
       "      <td>False</td>\n",
       "      <td>NaN</td>\n",
       "      <td>0</td>\n",
       "      <td>[]</td>\n",
       "      <td>0</td>\n",
       "    </tr>\n",
       "  </tbody>\n",
       "</table>\n",
       "</div>"
      ],
      "text/plain": [
       "        username            name              user_id  \\\n",
       "0    giggleslkoo          atha ≮  1303656337277029888   \n",
       "1  kanggendang95          Zy 🌻🌻🌻  1151058589714243968   \n",
       "2      h0horizon  skr print shop   919197460475473920   \n",
       "3         dewfa5      ⁷⟭⟬Dew.fà🌌  1151643535680033024   \n",
       "4      ususkecil          Terasi  1071693739989458944   \n",
       "\n",
       "                                  created_at  likes_count  \\\n",
       "0  2020-11-13 06:57:33 SE Asia Standard Time            0   \n",
       "1  2020-11-13 06:52:47 SE Asia Standard Time            0   \n",
       "2  2020-11-13 06:52:19 SE Asia Standard Time           13   \n",
       "3  2020-11-13 06:51:48 SE Asia Standard Time            0   \n",
       "4  2020-11-13 06:50:38 SE Asia Standard Time            0   \n",
       "\n",
       "       conversation_id urls mentions Categories  \\\n",
       "0  1327037850643169024   []       []        non   \n",
       "1  1326906357623173120   []       []        non   \n",
       "2  1327036534583820032   []       []        non   \n",
       "3  1326842920360505088   []       []        non   \n",
       "4  1327033532334498048   []       []        non   \n",
       "\n",
       "                                               tweet  \\\n",
       "0  jimin gabisa santai banget itu  https://t.co/q...   \n",
       "1  @koplakjae Kata kata daris yang ini buat gua k...   \n",
       "2  “perasaan mama dulu ips santai bgt, kok km nug...   \n",
       "3  @shyuk_kiyowo Style bff cantik banget, keliata...   \n",
       "4  @collegemenfess Semangat yaaa, kamu pasti bisa...   \n",
       "\n",
       "                                              photos  replies_count  \\\n",
       "0  ['https://pbs.twimg.com/media/EmqV5CvVQAABipt....              1   \n",
       "1  ['https://pbs.twimg.com/media/EmqUxShUYAAyUIx....              0   \n",
       "2                                                 []              2   \n",
       "3                                                 []              0   \n",
       "4                                                 []              0   \n",
       "\n",
       "   retweets_count                                               link  retweet  \\\n",
       "0               0  https://twitter.com/giggleslkoo/status/1327037...    False   \n",
       "1               0  https://twitter.com/kanggendang95/status/13270...    False   \n",
       "2               0  https://twitter.com/h0horizon/status/132703653...    False   \n",
       "3               0  https://twitter.com/Dewfa5/status/132703640563...    False   \n",
       "4               0  https://twitter.com/ususkecil/status/132703611...    False   \n",
       "\n",
       "  quote_url  video hashtag  hashtag_count  \n",
       "0       NaN      1      []              0  \n",
       "1       NaN      1      []              0  \n",
       "2       NaN      0      []              0  \n",
       "3       NaN      0      []              0  \n",
       "4       NaN      0      []              0  "
      ]
     },
     "execution_count": 61,
     "metadata": {},
     "output_type": "execute_result"
    }
   ],
   "source": [
    "df.head(5)"
   ]
  },
  {
   "cell_type": "code",
   "execution_count": 66,
   "metadata": {},
   "outputs": [],
   "source": [
    "df=pd.read_excel(\"Dataset/non.xlsx\")"
   ]
  },
  {
   "cell_type": "code",
   "execution_count": 67,
   "metadata": {},
   "outputs": [
    {
     "data": {
      "text/html": [
       "<div>\n",
       "<style scoped>\n",
       "    .dataframe tbody tr th:only-of-type {\n",
       "        vertical-align: middle;\n",
       "    }\n",
       "\n",
       "    .dataframe tbody tr th {\n",
       "        vertical-align: top;\n",
       "    }\n",
       "\n",
       "    .dataframe thead th {\n",
       "        text-align: right;\n",
       "    }\n",
       "</style>\n",
       "<table border=\"1\" class=\"dataframe\">\n",
       "  <thead>\n",
       "    <tr style=\"text-align: right;\">\n",
       "      <th></th>\n",
       "      <th>Unnamed: 0</th>\n",
       "      <th>username</th>\n",
       "      <th>name</th>\n",
       "      <th>user_id</th>\n",
       "      <th>created_at</th>\n",
       "      <th>likes_count</th>\n",
       "      <th>conversation_id</th>\n",
       "      <th>urls</th>\n",
       "      <th>mentions</th>\n",
       "      <th>Categories</th>\n",
       "      <th>tweet</th>\n",
       "      <th>photos</th>\n",
       "      <th>replies_count</th>\n",
       "      <th>retweets_count</th>\n",
       "      <th>link</th>\n",
       "      <th>retweet</th>\n",
       "      <th>quote_url</th>\n",
       "      <th>video</th>\n",
       "      <th>hashtag</th>\n",
       "      <th>hashtag_count</th>\n",
       "    </tr>\n",
       "  </thead>\n",
       "  <tbody>\n",
       "    <tr>\n",
       "      <th>0</th>\n",
       "      <td>0</td>\n",
       "      <td>giggleslkoo</td>\n",
       "      <td>atha ≮</td>\n",
       "      <td>1303656337277029888</td>\n",
       "      <td>2020-11-13 06:57:33</td>\n",
       "      <td>0</td>\n",
       "      <td>1327037850643169024</td>\n",
       "      <td>[]</td>\n",
       "      <td>[]</td>\n",
       "      <td>non</td>\n",
       "      <td>jimin gabisa santai banget itu  https://t.co/q...</td>\n",
       "      <td>['https://pbs.twimg.com/media/EmqV5CvVQAABipt....</td>\n",
       "      <td>1</td>\n",
       "      <td>0</td>\n",
       "      <td>https://twitter.com/giggleslkoo/status/1327037...</td>\n",
       "      <td>False</td>\n",
       "      <td>NaN</td>\n",
       "      <td>1</td>\n",
       "      <td>[]</td>\n",
       "      <td>0</td>\n",
       "    </tr>\n",
       "    <tr>\n",
       "      <th>1</th>\n",
       "      <td>1</td>\n",
       "      <td>kanggendang95</td>\n",
       "      <td>Zy 🌻🌻🌻</td>\n",
       "      <td>1151058589714243968</td>\n",
       "      <td>2020-11-13 06:52:47</td>\n",
       "      <td>0</td>\n",
       "      <td>1326906357623173120</td>\n",
       "      <td>[]</td>\n",
       "      <td>[]</td>\n",
       "      <td>non</td>\n",
       "      <td>@koplakjae Kata kata daris yang ini buat gua k...</td>\n",
       "      <td>['https://pbs.twimg.com/media/EmqUxShUYAAyUIx....</td>\n",
       "      <td>0</td>\n",
       "      <td>0</td>\n",
       "      <td>https://twitter.com/kanggendang95/status/13270...</td>\n",
       "      <td>False</td>\n",
       "      <td>NaN</td>\n",
       "      <td>1</td>\n",
       "      <td>[]</td>\n",
       "      <td>0</td>\n",
       "    </tr>\n",
       "    <tr>\n",
       "      <th>2</th>\n",
       "      <td>2</td>\n",
       "      <td>h0horizon</td>\n",
       "      <td>skr print shop</td>\n",
       "      <td>919197460475473920</td>\n",
       "      <td>2020-11-13 06:52:19</td>\n",
       "      <td>13</td>\n",
       "      <td>1327036534583820032</td>\n",
       "      <td>[]</td>\n",
       "      <td>[]</td>\n",
       "      <td>non</td>\n",
       "      <td>“perasaan mama dulu ips santai bgt, kok km nug...</td>\n",
       "      <td>[]</td>\n",
       "      <td>2</td>\n",
       "      <td>0</td>\n",
       "      <td>https://twitter.com/h0horizon/status/132703653...</td>\n",
       "      <td>False</td>\n",
       "      <td>NaN</td>\n",
       "      <td>0</td>\n",
       "      <td>[]</td>\n",
       "      <td>0</td>\n",
       "    </tr>\n",
       "    <tr>\n",
       "      <th>3</th>\n",
       "      <td>3</td>\n",
       "      <td>dewfa5</td>\n",
       "      <td>⁷⟭⟬Dew.fà🌌</td>\n",
       "      <td>1151643535680033024</td>\n",
       "      <td>2020-11-13 06:51:48</td>\n",
       "      <td>0</td>\n",
       "      <td>1326842920360505088</td>\n",
       "      <td>[]</td>\n",
       "      <td>[]</td>\n",
       "      <td>non</td>\n",
       "      <td>@shyuk_kiyowo Style bff cantik banget, keliata...</td>\n",
       "      <td>[]</td>\n",
       "      <td>0</td>\n",
       "      <td>0</td>\n",
       "      <td>https://twitter.com/Dewfa5/status/132703640563...</td>\n",
       "      <td>False</td>\n",
       "      <td>NaN</td>\n",
       "      <td>0</td>\n",
       "      <td>[]</td>\n",
       "      <td>0</td>\n",
       "    </tr>\n",
       "    <tr>\n",
       "      <th>4</th>\n",
       "      <td>4</td>\n",
       "      <td>ususkecil</td>\n",
       "      <td>Terasi</td>\n",
       "      <td>1071693739989458944</td>\n",
       "      <td>2020-11-13 06:50:38</td>\n",
       "      <td>0</td>\n",
       "      <td>1327033532334498048</td>\n",
       "      <td>[]</td>\n",
       "      <td>[]</td>\n",
       "      <td>non</td>\n",
       "      <td>@collegemenfess Semangat yaaa, kamu pasti bisa...</td>\n",
       "      <td>[]</td>\n",
       "      <td>0</td>\n",
       "      <td>0</td>\n",
       "      <td>https://twitter.com/ususkecil/status/132703611...</td>\n",
       "      <td>False</td>\n",
       "      <td>NaN</td>\n",
       "      <td>0</td>\n",
       "      <td>[]</td>\n",
       "      <td>0</td>\n",
       "    </tr>\n",
       "    <tr>\n",
       "      <th>...</th>\n",
       "      <td>...</td>\n",
       "      <td>...</td>\n",
       "      <td>...</td>\n",
       "      <td>...</td>\n",
       "      <td>...</td>\n",
       "      <td>...</td>\n",
       "      <td>...</td>\n",
       "      <td>...</td>\n",
       "      <td>...</td>\n",
       "      <td>...</td>\n",
       "      <td>...</td>\n",
       "      <td>...</td>\n",
       "      <td>...</td>\n",
       "      <td>...</td>\n",
       "      <td>...</td>\n",
       "      <td>...</td>\n",
       "      <td>...</td>\n",
       "      <td>...</td>\n",
       "      <td>...</td>\n",
       "      <td>...</td>\n",
       "    </tr>\n",
       "    <tr>\n",
       "      <th>395</th>\n",
       "      <td>395</td>\n",
       "      <td>tambungendut</td>\n",
       "      <td>Pejantan Tambun</td>\n",
       "      <td>1326023129576082944</td>\n",
       "      <td>2020-11-10 12:50:22</td>\n",
       "      <td>0</td>\n",
       "      <td>1326039478587322112</td>\n",
       "      <td>[]</td>\n",
       "      <td>[]</td>\n",
       "      <td>non</td>\n",
       "      <td>Selamat Datang Kembali HRS! #WelcomeBackHRS</td>\n",
       "      <td>[]</td>\n",
       "      <td>0</td>\n",
       "      <td>0</td>\n",
       "      <td>https://twitter.com/TambunGendut/status/132603...</td>\n",
       "      <td>False</td>\n",
       "      <td>NaN</td>\n",
       "      <td>0</td>\n",
       "      <td>['welcomebackhrs']</td>\n",
       "      <td>1</td>\n",
       "    </tr>\n",
       "    <tr>\n",
       "      <th>396</th>\n",
       "      <td>396</td>\n",
       "      <td>mmu_iq</td>\n",
       "      <td>Muhammad Maulana Shiddiq</td>\n",
       "      <td>1154077470309490944</td>\n",
       "      <td>2020-11-10 12:47:43</td>\n",
       "      <td>1</td>\n",
       "      <td>1325993054939930880</td>\n",
       "      <td>[]</td>\n",
       "      <td>[]</td>\n",
       "      <td>non</td>\n",
       "      <td>@RomitsuT Alhamdulillah, terimakasih mas perju...</td>\n",
       "      <td>[]</td>\n",
       "      <td>0</td>\n",
       "      <td>0</td>\n",
       "      <td>https://twitter.com/Mmu_iQ/status/132603881000...</td>\n",
       "      <td>False</td>\n",
       "      <td>NaN</td>\n",
       "      <td>0</td>\n",
       "      <td>['welcomebackhrs', 'welcomebackibhrs']</td>\n",
       "      <td>2</td>\n",
       "    </tr>\n",
       "    <tr>\n",
       "      <th>397</th>\n",
       "      <td>397</td>\n",
       "      <td>terasjabar_1</td>\n",
       "      <td>Terasjabar.id</td>\n",
       "      <td>1039394114284839040</td>\n",
       "      <td>2020-11-10 12:42:04</td>\n",
       "      <td>2</td>\n",
       "      <td>1326037388393553920</td>\n",
       "      <td>['https://terasjabar.id/plugin/article/view/11...</td>\n",
       "      <td>[]</td>\n",
       "      <td>non</td>\n",
       "      <td>https://t.co/cqeEQfh7RL   Menyambut Habib Riz...</td>\n",
       "      <td>[]</td>\n",
       "      <td>0</td>\n",
       "      <td>0</td>\n",
       "      <td>https://twitter.com/Terasjabar_1/status/132603...</td>\n",
       "      <td>False</td>\n",
       "      <td>NaN</td>\n",
       "      <td>0</td>\n",
       "      <td>['habibrizieqsyihab', 'welcomehomehrs', 'welco...</td>\n",
       "      <td>3</td>\n",
       "    </tr>\n",
       "    <tr>\n",
       "      <th>398</th>\n",
       "      <td>398</td>\n",
       "      <td>aminullah_riga</td>\n",
       "      <td>Bagyo koncone Yanto</td>\n",
       "      <td>944039736183681024</td>\n",
       "      <td>2020-11-10 12:40:23</td>\n",
       "      <td>0</td>\n",
       "      <td>1326036964395507968</td>\n",
       "      <td>[]</td>\n",
       "      <td>[]</td>\n",
       "      <td>non</td>\n",
       "      <td>Kenapa di trending #WelcomeBackHRS dll nya gaa...</td>\n",
       "      <td>[]</td>\n",
       "      <td>1</td>\n",
       "      <td>0</td>\n",
       "      <td>https://twitter.com/aminullah_riga/status/1326...</td>\n",
       "      <td>False</td>\n",
       "      <td>NaN</td>\n",
       "      <td>0</td>\n",
       "      <td>['welcomebackhrs']</td>\n",
       "      <td>1</td>\n",
       "    </tr>\n",
       "    <tr>\n",
       "      <th>399</th>\n",
       "      <td>399</td>\n",
       "      <td>yashadipura</td>\n",
       "      <td>PRESIDEN BAJINGAN 🕙</td>\n",
       "      <td>60633673</td>\n",
       "      <td>2020-11-10 12:33:13</td>\n",
       "      <td>22</td>\n",
       "      <td>1326035159511020032</td>\n",
       "      <td>[]</td>\n",
       "      <td>[]</td>\n",
       "      <td>non</td>\n",
       "      <td>Sudah tak ada kata2 yg sanggup kami Lontarkan....</td>\n",
       "      <td>[]</td>\n",
       "      <td>0</td>\n",
       "      <td>3</td>\n",
       "      <td>https://twitter.com/yashadipura/status/1326035...</td>\n",
       "      <td>False</td>\n",
       "      <td>NaN</td>\n",
       "      <td>0</td>\n",
       "      <td>['welcomebackhrs', 'welcomehomehrs']</td>\n",
       "      <td>2</td>\n",
       "    </tr>\n",
       "  </tbody>\n",
       "</table>\n",
       "<p>400 rows × 20 columns</p>\n",
       "</div>"
      ],
      "text/plain": [
       "     Unnamed: 0        username                      name  \\\n",
       "0             0     giggleslkoo                    atha ≮   \n",
       "1             1   kanggendang95                    Zy 🌻🌻🌻   \n",
       "2             2       h0horizon            skr print shop   \n",
       "3             3          dewfa5                ⁷⟭⟬Dew.fà🌌   \n",
       "4             4       ususkecil                    Terasi   \n",
       "..          ...             ...                       ...   \n",
       "395         395    tambungendut           Pejantan Tambun   \n",
       "396         396          mmu_iq  Muhammad Maulana Shiddiq   \n",
       "397         397    terasjabar_1             Terasjabar.id   \n",
       "398         398  aminullah_riga       Bagyo koncone Yanto   \n",
       "399         399     yashadipura       PRESIDEN BAJINGAN 🕙   \n",
       "\n",
       "                 user_id          created_at  likes_count  \\\n",
       "0    1303656337277029888 2020-11-13 06:57:33            0   \n",
       "1    1151058589714243968 2020-11-13 06:52:47            0   \n",
       "2     919197460475473920 2020-11-13 06:52:19           13   \n",
       "3    1151643535680033024 2020-11-13 06:51:48            0   \n",
       "4    1071693739989458944 2020-11-13 06:50:38            0   \n",
       "..                   ...                 ...          ...   \n",
       "395  1326023129576082944 2020-11-10 12:50:22            0   \n",
       "396  1154077470309490944 2020-11-10 12:47:43            1   \n",
       "397  1039394114284839040 2020-11-10 12:42:04            2   \n",
       "398   944039736183681024 2020-11-10 12:40:23            0   \n",
       "399             60633673 2020-11-10 12:33:13           22   \n",
       "\n",
       "         conversation_id                                               urls  \\\n",
       "0    1327037850643169024                                                 []   \n",
       "1    1326906357623173120                                                 []   \n",
       "2    1327036534583820032                                                 []   \n",
       "3    1326842920360505088                                                 []   \n",
       "4    1327033532334498048                                                 []   \n",
       "..                   ...                                                ...   \n",
       "395  1326039478587322112                                                 []   \n",
       "396  1325993054939930880                                                 []   \n",
       "397  1326037388393553920  ['https://terasjabar.id/plugin/article/view/11...   \n",
       "398  1326036964395507968                                                 []   \n",
       "399  1326035159511020032                                                 []   \n",
       "\n",
       "    mentions Categories                                              tweet  \\\n",
       "0         []        non  jimin gabisa santai banget itu  https://t.co/q...   \n",
       "1         []        non  @koplakjae Kata kata daris yang ini buat gua k...   \n",
       "2         []        non  “perasaan mama dulu ips santai bgt, kok km nug...   \n",
       "3         []        non  @shyuk_kiyowo Style bff cantik banget, keliata...   \n",
       "4         []        non  @collegemenfess Semangat yaaa, kamu pasti bisa...   \n",
       "..       ...        ...                                                ...   \n",
       "395       []        non        Selamat Datang Kembali HRS! #WelcomeBackHRS   \n",
       "396       []        non  @RomitsuT Alhamdulillah, terimakasih mas perju...   \n",
       "397       []        non   https://t.co/cqeEQfh7RL   Menyambut Habib Riz...   \n",
       "398       []        non  Kenapa di trending #WelcomeBackHRS dll nya gaa...   \n",
       "399       []        non  Sudah tak ada kata2 yg sanggup kami Lontarkan....   \n",
       "\n",
       "                                                photos  replies_count  \\\n",
       "0    ['https://pbs.twimg.com/media/EmqV5CvVQAABipt....              1   \n",
       "1    ['https://pbs.twimg.com/media/EmqUxShUYAAyUIx....              0   \n",
       "2                                                   []              2   \n",
       "3                                                   []              0   \n",
       "4                                                   []              0   \n",
       "..                                                 ...            ...   \n",
       "395                                                 []              0   \n",
       "396                                                 []              0   \n",
       "397                                                 []              0   \n",
       "398                                                 []              1   \n",
       "399                                                 []              0   \n",
       "\n",
       "     retweets_count                                               link  \\\n",
       "0                 0  https://twitter.com/giggleslkoo/status/1327037...   \n",
       "1                 0  https://twitter.com/kanggendang95/status/13270...   \n",
       "2                 0  https://twitter.com/h0horizon/status/132703653...   \n",
       "3                 0  https://twitter.com/Dewfa5/status/132703640563...   \n",
       "4                 0  https://twitter.com/ususkecil/status/132703611...   \n",
       "..              ...                                                ...   \n",
       "395               0  https://twitter.com/TambunGendut/status/132603...   \n",
       "396               0  https://twitter.com/Mmu_iQ/status/132603881000...   \n",
       "397               0  https://twitter.com/Terasjabar_1/status/132603...   \n",
       "398               0  https://twitter.com/aminullah_riga/status/1326...   \n",
       "399               3  https://twitter.com/yashadipura/status/1326035...   \n",
       "\n",
       "     retweet quote_url  video  \\\n",
       "0      False       NaN      1   \n",
       "1      False       NaN      1   \n",
       "2      False       NaN      0   \n",
       "3      False       NaN      0   \n",
       "4      False       NaN      0   \n",
       "..       ...       ...    ...   \n",
       "395    False       NaN      0   \n",
       "396    False       NaN      0   \n",
       "397    False       NaN      0   \n",
       "398    False       NaN      0   \n",
       "399    False       NaN      0   \n",
       "\n",
       "                                               hashtag  hashtag_count  \n",
       "0                                                   []              0  \n",
       "1                                                   []              0  \n",
       "2                                                   []              0  \n",
       "3                                                   []              0  \n",
       "4                                                   []              0  \n",
       "..                                                 ...            ...  \n",
       "395                                 ['welcomebackhrs']              1  \n",
       "396             ['welcomebackhrs', 'welcomebackibhrs']              2  \n",
       "397  ['habibrizieqsyihab', 'welcomehomehrs', 'welco...              3  \n",
       "398                                 ['welcomebackhrs']              1  \n",
       "399               ['welcomebackhrs', 'welcomehomehrs']              2  \n",
       "\n",
       "[400 rows x 20 columns]"
      ]
     },
     "execution_count": 67,
     "metadata": {},
     "output_type": "execute_result"
    }
   ],
   "source": [
    "df"
   ]
  },
  {
   "cell_type": "code",
   "execution_count": 90,
   "metadata": {},
   "outputs": [],
   "source": [
    "buzzer.drop('retweet', inplace=True, axis=1)\n",
    "df.drop('retweet', inplace=True, axis=1)"
   ]
  },
  {
   "cell_type": "code",
   "execution_count": 80,
   "metadata": {},
   "outputs": [],
   "source": [
    "df['created_at'] = pd.to_datetime(df['created_at'], errors='coerce', format='%Y-%m-%d %H:%M:%S')\n",
    "df['new_date'] = [d.date() for d in df['created_at']]\n",
    "df['new_time'] = [d.time() for d in df['created_at']]"
   ]
  },
  {
   "cell_type": "code",
   "execution_count": 93,
   "metadata": {},
   "outputs": [
    {
     "data": {
      "text/plain": [
       "(400, 20)"
      ]
     },
     "execution_count": 93,
     "metadata": {},
     "output_type": "execute_result"
    }
   ],
   "source": []
  },
  {
   "cell_type": "code",
   "execution_count": 85,
   "metadata": {},
   "outputs": [],
   "source": [
    "#change float datatype to int64\n",
    "import numpy as np\n",
    "cols = ['user_id','likes_count','conversation_id','replies_count', 'retweets_count', 'video','hashtag_count']\n",
    "buzzer[cols] = buzzer[cols].applymap(np.int64)"
   ]
  },
  {
   "cell_type": "code",
   "execution_count": 94,
   "metadata": {},
   "outputs": [
    {
     "data": {
      "text/plain": [
       "username           object\n",
       "name               object\n",
       "user_id             int64\n",
       "created_at         object\n",
       "likes_count         int64\n",
       "conversation_id     int64\n",
       "urls               object\n",
       "mentions           object\n",
       "Categories         object\n",
       "tweet              object\n",
       "photos             object\n",
       "replies_count       int64\n",
       "retweets_count      int64\n",
       "link               object\n",
       "quote_url          object\n",
       "video               int64\n",
       "new_date           object\n",
       "new_time           object\n",
       "hashtag            object\n",
       "hashtag_count       int64\n",
       "dtype: object"
      ]
     },
     "execution_count": 94,
     "metadata": {},
     "output_type": "execute_result"
    }
   ],
   "source": [
    "buzzer.dtypes"
   ]
  },
  {
   "cell_type": "code",
   "execution_count": 96,
   "metadata": {},
   "outputs": [],
   "source": [
    "df_buzzer=buzzer[['username','name','likes_count','urls','mentions','tweet','photos','replies_count','retweets_count','link','quote_url','video','new_date','new_time','hashtag','hashtag_count','Categories']]"
   ]
  },
  {
   "cell_type": "code",
   "execution_count": 97,
   "metadata": {},
   "outputs": [],
   "source": [
    "df_non=df[['username','name','likes_count','urls','mentions','tweet','photos','replies_count','retweets_count','link','quote_url','video','new_date','new_time','hashtag','hashtag_count','Categories']]"
   ]
  },
  {
   "cell_type": "code",
   "execution_count": 98,
   "metadata": {},
   "outputs": [
    {
     "data": {
      "text/html": [
       "<div>\n",
       "<style scoped>\n",
       "    .dataframe tbody tr th:only-of-type {\n",
       "        vertical-align: middle;\n",
       "    }\n",
       "\n",
       "    .dataframe tbody tr th {\n",
       "        vertical-align: top;\n",
       "    }\n",
       "\n",
       "    .dataframe thead th {\n",
       "        text-align: right;\n",
       "    }\n",
       "</style>\n",
       "<table border=\"1\" class=\"dataframe\">\n",
       "  <thead>\n",
       "    <tr style=\"text-align: right;\">\n",
       "      <th></th>\n",
       "      <th>username</th>\n",
       "      <th>name</th>\n",
       "      <th>likes_count</th>\n",
       "      <th>urls</th>\n",
       "      <th>mentions</th>\n",
       "      <th>tweet</th>\n",
       "      <th>photos</th>\n",
       "      <th>replies_count</th>\n",
       "      <th>retweets_count</th>\n",
       "      <th>link</th>\n",
       "      <th>quote_url</th>\n",
       "      <th>video</th>\n",
       "      <th>new_date</th>\n",
       "      <th>new_time</th>\n",
       "      <th>hashtag</th>\n",
       "      <th>hashtag_count</th>\n",
       "      <th>Categories</th>\n",
       "    </tr>\n",
       "  </thead>\n",
       "  <tbody>\n",
       "    <tr>\n",
       "      <th>0</th>\n",
       "      <td>muhyi_goobeh</td>\n",
       "      <td>muhyi_goobeh</td>\n",
       "      <td>1</td>\n",
       "      <td>[]</td>\n",
       "      <td>[]</td>\n",
       "      <td>#WelcomeBackHRS</td>\n",
       "      <td>[]</td>\n",
       "      <td>0</td>\n",
       "      <td>0</td>\n",
       "      <td>https://twitter.com/muhyi_goobeh/status/132688...</td>\n",
       "      <td>https://twitter.com/MuhammaD19s/status/1326784...</td>\n",
       "      <td>0</td>\n",
       "      <td>2020-11-12 00:00:00</td>\n",
       "      <td>21:05:57</td>\n",
       "      <td>['welcomebackhrs']</td>\n",
       "      <td>1</td>\n",
       "      <td>Buzzer</td>\n",
       "    </tr>\n",
       "    <tr>\n",
       "      <th>1</th>\n",
       "      <td>narasipost</td>\n",
       "      <td>narasipost.com</td>\n",
       "      <td>1</td>\n",
       "      <td>['https://narasipost.com/selamat-datang-sang-h...</td>\n",
       "      <td>[]</td>\n",
       "      <td>Berita kepulangan sang Habib ini menjadi sanga...</td>\n",
       "      <td>[]</td>\n",
       "      <td>0</td>\n",
       "      <td>0</td>\n",
       "      <td>https://twitter.com/narasipost/status/13268707...</td>\n",
       "      <td>NaN</td>\n",
       "      <td>0</td>\n",
       "      <td>2020-11-12 00:00:00</td>\n",
       "      <td>19:53:40</td>\n",
       "      <td>['welcomebackibhrs', 'welcomebackhrs']</td>\n",
       "      <td>2</td>\n",
       "      <td>Buzzer</td>\n",
       "    </tr>\n",
       "    <tr>\n",
       "      <th>2</th>\n",
       "      <td>lurahtajir1</td>\n",
       "      <td>Lurah Tajir</td>\n",
       "      <td>1</td>\n",
       "      <td>[]</td>\n",
       "      <td>[]</td>\n",
       "      <td>@sohib212reborn Tagarnya #WelcomeBackIBHRS  #W...</td>\n",
       "      <td>[]</td>\n",
       "      <td>0</td>\n",
       "      <td>0</td>\n",
       "      <td>https://twitter.com/Lurahtajir1/status/1326770...</td>\n",
       "      <td>NaN</td>\n",
       "      <td>0</td>\n",
       "      <td>2020-11-12 00:00:00</td>\n",
       "      <td>13:16:33</td>\n",
       "      <td>['welcomebackibhrs', 'welcomebackhrs', 'welcom...</td>\n",
       "      <td>3</td>\n",
       "      <td>Buzzer</td>\n",
       "    </tr>\n",
       "    <tr>\n",
       "      <th>3</th>\n",
       "      <td>trendingviralo</td>\n",
       "      <td>Viralo Trending</td>\n",
       "      <td>0</td>\n",
       "      <td>['https://youtu.be/HKhmkkBre7s']</td>\n",
       "      <td>[]</td>\n",
       "      <td>Kesaksian Habib Rizieq  https://t.co/Ep6R7a4dO...</td>\n",
       "      <td>[]</td>\n",
       "      <td>0</td>\n",
       "      <td>0</td>\n",
       "      <td>https://twitter.com/TrendingViralo/status/1326...</td>\n",
       "      <td>NaN</td>\n",
       "      <td>0</td>\n",
       "      <td>2020-11-12 00:00:00</td>\n",
       "      <td>08:36:23</td>\n",
       "      <td>['welcomehomeibhrs', 'welcomebackhrs']</td>\n",
       "      <td>2</td>\n",
       "      <td>Buzzer</td>\n",
       "    </tr>\n",
       "    <tr>\n",
       "      <th>4</th>\n",
       "      <td>eny86315895</td>\n",
       "      <td>@en_y466</td>\n",
       "      <td>0</td>\n",
       "      <td>[]</td>\n",
       "      <td>[]</td>\n",
       "      <td>#WelcomeBackHRS  #WelcomeHomeIBHRS</td>\n",
       "      <td>[]</td>\n",
       "      <td>0</td>\n",
       "      <td>0</td>\n",
       "      <td>https://twitter.com/eny86315895/status/1326671...</td>\n",
       "      <td>https://twitter.com/fadlizon/status/1326038891...</td>\n",
       "      <td>0</td>\n",
       "      <td>2020-11-12 00:00:00</td>\n",
       "      <td>06:41:55</td>\n",
       "      <td>['welcomebackhrs', 'welcomehomeibhrs']</td>\n",
       "      <td>2</td>\n",
       "      <td>Buzzer</td>\n",
       "    </tr>\n",
       "  </tbody>\n",
       "</table>\n",
       "</div>"
      ],
      "text/plain": [
       "         username             name  likes_count  \\\n",
       "0    muhyi_goobeh     muhyi_goobeh            1   \n",
       "1      narasipost   narasipost.com            1   \n",
       "2     lurahtajir1      Lurah Tajir            1   \n",
       "3  trendingviralo  Viralo Trending            0   \n",
       "4     eny86315895         @en_y466            0   \n",
       "\n",
       "                                                urls mentions  \\\n",
       "0                                                 []       []   \n",
       "1  ['https://narasipost.com/selamat-datang-sang-h...       []   \n",
       "2                                                 []       []   \n",
       "3                   ['https://youtu.be/HKhmkkBre7s']       []   \n",
       "4                                                 []       []   \n",
       "\n",
       "                                               tweet photos  replies_count  \\\n",
       "0                                    #WelcomeBackHRS     []              0   \n",
       "1  Berita kepulangan sang Habib ini menjadi sanga...     []              0   \n",
       "2  @sohib212reborn Tagarnya #WelcomeBackIBHRS  #W...     []              0   \n",
       "3  Kesaksian Habib Rizieq  https://t.co/Ep6R7a4dO...     []              0   \n",
       "4                 #WelcomeBackHRS  #WelcomeHomeIBHRS     []              0   \n",
       "\n",
       "   retweets_count                                               link  \\\n",
       "0               0  https://twitter.com/muhyi_goobeh/status/132688...   \n",
       "1               0  https://twitter.com/narasipost/status/13268707...   \n",
       "2               0  https://twitter.com/Lurahtajir1/status/1326770...   \n",
       "3               0  https://twitter.com/TrendingViralo/status/1326...   \n",
       "4               0  https://twitter.com/eny86315895/status/1326671...   \n",
       "\n",
       "                                           quote_url  video  \\\n",
       "0  https://twitter.com/MuhammaD19s/status/1326784...      0   \n",
       "1                                                NaN      0   \n",
       "2                                                NaN      0   \n",
       "3                                                NaN      0   \n",
       "4  https://twitter.com/fadlizon/status/1326038891...      0   \n",
       "\n",
       "              new_date  new_time  \\\n",
       "0  2020-11-12 00:00:00  21:05:57   \n",
       "1  2020-11-12 00:00:00  19:53:40   \n",
       "2  2020-11-12 00:00:00  13:16:33   \n",
       "3  2020-11-12 00:00:00  08:36:23   \n",
       "4  2020-11-12 00:00:00  06:41:55   \n",
       "\n",
       "                                             hashtag  hashtag_count Categories  \n",
       "0                                 ['welcomebackhrs']              1     Buzzer  \n",
       "1             ['welcomebackibhrs', 'welcomebackhrs']              2     Buzzer  \n",
       "2  ['welcomebackibhrs', 'welcomebackhrs', 'welcom...              3     Buzzer  \n",
       "3             ['welcomehomeibhrs', 'welcomebackhrs']              2     Buzzer  \n",
       "4             ['welcomebackhrs', 'welcomehomeibhrs']              2     Buzzer  "
      ]
     },
     "execution_count": 98,
     "metadata": {},
     "output_type": "execute_result"
    }
   ],
   "source": [
    "df_buzzer.head(5)"
   ]
  },
  {
   "cell_type": "code",
   "execution_count": 99,
   "metadata": {},
   "outputs": [
    {
     "data": {
      "text/html": [
       "<div>\n",
       "<style scoped>\n",
       "    .dataframe tbody tr th:only-of-type {\n",
       "        vertical-align: middle;\n",
       "    }\n",
       "\n",
       "    .dataframe tbody tr th {\n",
       "        vertical-align: top;\n",
       "    }\n",
       "\n",
       "    .dataframe thead th {\n",
       "        text-align: right;\n",
       "    }\n",
       "</style>\n",
       "<table border=\"1\" class=\"dataframe\">\n",
       "  <thead>\n",
       "    <tr style=\"text-align: right;\">\n",
       "      <th></th>\n",
       "      <th>username</th>\n",
       "      <th>name</th>\n",
       "      <th>likes_count</th>\n",
       "      <th>urls</th>\n",
       "      <th>mentions</th>\n",
       "      <th>tweet</th>\n",
       "      <th>photos</th>\n",
       "      <th>replies_count</th>\n",
       "      <th>retweets_count</th>\n",
       "      <th>link</th>\n",
       "      <th>quote_url</th>\n",
       "      <th>video</th>\n",
       "      <th>new_date</th>\n",
       "      <th>new_time</th>\n",
       "      <th>hashtag</th>\n",
       "      <th>hashtag_count</th>\n",
       "      <th>Categories</th>\n",
       "    </tr>\n",
       "  </thead>\n",
       "  <tbody>\n",
       "    <tr>\n",
       "      <th>0</th>\n",
       "      <td>giggleslkoo</td>\n",
       "      <td>atha ≮</td>\n",
       "      <td>0</td>\n",
       "      <td>[]</td>\n",
       "      <td>[]</td>\n",
       "      <td>jimin gabisa santai banget itu  https://t.co/q...</td>\n",
       "      <td>['https://pbs.twimg.com/media/EmqV5CvVQAABipt....</td>\n",
       "      <td>1</td>\n",
       "      <td>0</td>\n",
       "      <td>https://twitter.com/giggleslkoo/status/1327037...</td>\n",
       "      <td>NaN</td>\n",
       "      <td>1</td>\n",
       "      <td>2020-11-13</td>\n",
       "      <td>06:57:33</td>\n",
       "      <td>[]</td>\n",
       "      <td>0</td>\n",
       "      <td>non</td>\n",
       "    </tr>\n",
       "    <tr>\n",
       "      <th>1</th>\n",
       "      <td>kanggendang95</td>\n",
       "      <td>Zy 🌻🌻🌻</td>\n",
       "      <td>0</td>\n",
       "      <td>[]</td>\n",
       "      <td>[]</td>\n",
       "      <td>@koplakjae Kata kata daris yang ini buat gua k...</td>\n",
       "      <td>['https://pbs.twimg.com/media/EmqUxShUYAAyUIx....</td>\n",
       "      <td>0</td>\n",
       "      <td>0</td>\n",
       "      <td>https://twitter.com/kanggendang95/status/13270...</td>\n",
       "      <td>NaN</td>\n",
       "      <td>1</td>\n",
       "      <td>2020-11-13</td>\n",
       "      <td>06:52:47</td>\n",
       "      <td>[]</td>\n",
       "      <td>0</td>\n",
       "      <td>non</td>\n",
       "    </tr>\n",
       "    <tr>\n",
       "      <th>2</th>\n",
       "      <td>h0horizon</td>\n",
       "      <td>skr print shop</td>\n",
       "      <td>13</td>\n",
       "      <td>[]</td>\n",
       "      <td>[]</td>\n",
       "      <td>“perasaan mama dulu ips santai bgt, kok km nug...</td>\n",
       "      <td>[]</td>\n",
       "      <td>2</td>\n",
       "      <td>0</td>\n",
       "      <td>https://twitter.com/h0horizon/status/132703653...</td>\n",
       "      <td>NaN</td>\n",
       "      <td>0</td>\n",
       "      <td>2020-11-13</td>\n",
       "      <td>06:52:19</td>\n",
       "      <td>[]</td>\n",
       "      <td>0</td>\n",
       "      <td>non</td>\n",
       "    </tr>\n",
       "    <tr>\n",
       "      <th>3</th>\n",
       "      <td>dewfa5</td>\n",
       "      <td>⁷⟭⟬Dew.fà🌌</td>\n",
       "      <td>0</td>\n",
       "      <td>[]</td>\n",
       "      <td>[]</td>\n",
       "      <td>@shyuk_kiyowo Style bff cantik banget, keliata...</td>\n",
       "      <td>[]</td>\n",
       "      <td>0</td>\n",
       "      <td>0</td>\n",
       "      <td>https://twitter.com/Dewfa5/status/132703640563...</td>\n",
       "      <td>NaN</td>\n",
       "      <td>0</td>\n",
       "      <td>2020-11-13</td>\n",
       "      <td>06:51:48</td>\n",
       "      <td>[]</td>\n",
       "      <td>0</td>\n",
       "      <td>non</td>\n",
       "    </tr>\n",
       "    <tr>\n",
       "      <th>4</th>\n",
       "      <td>ususkecil</td>\n",
       "      <td>Terasi</td>\n",
       "      <td>0</td>\n",
       "      <td>[]</td>\n",
       "      <td>[]</td>\n",
       "      <td>@collegemenfess Semangat yaaa, kamu pasti bisa...</td>\n",
       "      <td>[]</td>\n",
       "      <td>0</td>\n",
       "      <td>0</td>\n",
       "      <td>https://twitter.com/ususkecil/status/132703611...</td>\n",
       "      <td>NaN</td>\n",
       "      <td>0</td>\n",
       "      <td>2020-11-13</td>\n",
       "      <td>06:50:38</td>\n",
       "      <td>[]</td>\n",
       "      <td>0</td>\n",
       "      <td>non</td>\n",
       "    </tr>\n",
       "  </tbody>\n",
       "</table>\n",
       "</div>"
      ],
      "text/plain": [
       "        username            name  likes_count urls mentions  \\\n",
       "0    giggleslkoo          atha ≮            0   []       []   \n",
       "1  kanggendang95          Zy 🌻🌻🌻            0   []       []   \n",
       "2      h0horizon  skr print shop           13   []       []   \n",
       "3         dewfa5      ⁷⟭⟬Dew.fà🌌            0   []       []   \n",
       "4      ususkecil          Terasi            0   []       []   \n",
       "\n",
       "                                               tweet  \\\n",
       "0  jimin gabisa santai banget itu  https://t.co/q...   \n",
       "1  @koplakjae Kata kata daris yang ini buat gua k...   \n",
       "2  “perasaan mama dulu ips santai bgt, kok km nug...   \n",
       "3  @shyuk_kiyowo Style bff cantik banget, keliata...   \n",
       "4  @collegemenfess Semangat yaaa, kamu pasti bisa...   \n",
       "\n",
       "                                              photos  replies_count  \\\n",
       "0  ['https://pbs.twimg.com/media/EmqV5CvVQAABipt....              1   \n",
       "1  ['https://pbs.twimg.com/media/EmqUxShUYAAyUIx....              0   \n",
       "2                                                 []              2   \n",
       "3                                                 []              0   \n",
       "4                                                 []              0   \n",
       "\n",
       "   retweets_count                                               link  \\\n",
       "0               0  https://twitter.com/giggleslkoo/status/1327037...   \n",
       "1               0  https://twitter.com/kanggendang95/status/13270...   \n",
       "2               0  https://twitter.com/h0horizon/status/132703653...   \n",
       "3               0  https://twitter.com/Dewfa5/status/132703640563...   \n",
       "4               0  https://twitter.com/ususkecil/status/132703611...   \n",
       "\n",
       "  quote_url  video    new_date  new_time hashtag  hashtag_count Categories  \n",
       "0       NaN      1  2020-11-13  06:57:33      []              0        non  \n",
       "1       NaN      1  2020-11-13  06:52:47      []              0        non  \n",
       "2       NaN      0  2020-11-13  06:52:19      []              0        non  \n",
       "3       NaN      0  2020-11-13  06:51:48      []              0        non  \n",
       "4       NaN      0  2020-11-13  06:50:38      []              0        non  "
      ]
     },
     "execution_count": 99,
     "metadata": {},
     "output_type": "execute_result"
    }
   ],
   "source": [
    "df_non.head(5)"
   ]
  },
  {
   "cell_type": "code",
   "execution_count": 128,
   "metadata": {},
   "outputs": [
    {
     "data": {
      "text/plain": [
       "https://twitter.com/fenni_rosa/status/1325978487799177217       5\n",
       "https://twitter.com/Hilmi28/status/1326015189053927425          4\n",
       "https://twitter.com/U_y_o_k/status/1326011882172370944          4\n",
       "https://twitter.com/RestyLeseh/status/1326032876723339265       4\n",
       "https://twitter.com/GeiszChalifah/status/1326081519354404864    4\n",
       "                                                               ..\n",
       "https://twitter.com/zarazettirazr/status/1326051419498053632    1\n",
       "https://twitter.com/QaillaAsyiqah/status/1326012151190917125    1\n",
       "https://twitter.com/okezonenews/status/1326106072835350529      1\n",
       "https://twitter.com/exploreasyraf/status/1326451561782943744    1\n",
       "https://twitter.com/geloraco/status/1326033185860317187         1\n",
       "Name: quote_url, Length: 178, dtype: int64"
      ]
     },
     "execution_count": 128,
     "metadata": {},
     "output_type": "execute_result"
    }
   ],
   "source": [
    "# Boolean\n",
    "# df_row['urls'].value_counts()\n",
    "# df_row['photos'].value_counts()\n",
    "\n",
    "# df_row['quote_url'].value_counts()\n",
    "\n",
    "#Count how many mentions\n",
    "# df_row['mentions'].value_counts()\n",
    "# df_row['retweets_count'].value_counts()"
   ]
  },
  {
   "cell_type": "code",
   "execution_count": 100,
   "metadata": {},
   "outputs": [],
   "source": [
    "df_row = pd.concat([df_buzzer, df_non])"
   ]
  },
  {
   "cell_type": "code",
   "execution_count": 116,
   "metadata": {},
   "outputs": [],
   "source": [
    "df_row.to_csv(\"dataset/full.csv\")"
   ]
  },
  {
   "cell_type": "code",
   "execution_count": 118,
   "metadata": {},
   "outputs": [
    {
     "data": {
      "text/plain": [
       "Buzzer    400\n",
       "non       400\n",
       "Name: Categories, dtype: int64"
      ]
     },
     "execution_count": 118,
     "metadata": {},
     "output_type": "execute_result"
    }
   ],
   "source": [
    "df_row['Categories'].value_counts()"
   ]
  },
  {
   "cell_type": "code",
   "execution_count": 23,
   "metadata": {},
   "outputs": [],
   "source": [
    "import pandas as pd\n",
    "data=pd.read_csv(\"tidak.csv\")\n",
    "dat = data.iloc[:1000]\n",
    "dat.to_excel(\"tidak.xlsx\")"
   ]
  },
  {
   "cell_type": "code",
   "execution_count": 2,
   "metadata": {},
   "outputs": [],
   "source": [
    "# ////////////////////////////////////////////////"
   ]
  },
  {
   "cell_type": "code",
   "execution_count": 7,
   "metadata": {},
   "outputs": [],
   "source": [
    "import pandas as pd\n",
    "df=pd.read_excel('data_baru.xlsx')"
   ]
  },
  {
   "cell_type": "code",
   "execution_count": 8,
   "metadata": {},
   "outputs": [
    {
     "data": {
      "text/plain": [
       "Buzzer    743\n",
       "non       257\n",
       "Name: Categories, dtype: int64"
      ]
     },
     "execution_count": 8,
     "metadata": {},
     "output_type": "execute_result"
    }
   ],
   "source": [
    "df['Categories'].value_counts()"
   ]
  },
  {
   "cell_type": "code",
   "execution_count": 9,
   "metadata": {},
   "outputs": [
    {
     "data": {
      "text/plain": [
       "Index(['username', 'name', 'user_id', 'created_at', 'likes_count', 'hashtags',\n",
       "       'conversation_id', 'urls', 'mentions', 'Categories', 'tweet', 'photos',\n",
       "       'replies_count', 'retweets_count', 'link', 'retweet', 'quote_url',\n",
       "       'video', 'new_date', 'new_time'],\n",
       "      dtype='object')"
      ]
     },
     "execution_count": 9,
     "metadata": {},
     "output_type": "execute_result"
    }
   ],
   "source": [
    "df.columns"
   ]
  },
  {
   "cell_type": "code",
   "execution_count": 11,
   "metadata": {},
   "outputs": [],
   "source": [
    "df2=pd.read_csv('dataset/full.csv')"
   ]
  },
  {
   "cell_type": "code",
   "execution_count": 17,
   "metadata": {},
   "outputs": [],
   "source": [
    "df2 = df2[['username', 'name','likes_count', 'urls','mentions','tweet','photos','replies_count','retweets_count','link','quote_url','video','new_date','new_time','Categories']]"
   ]
  },
  {
   "cell_type": "code",
   "execution_count": 15,
   "metadata": {},
   "outputs": [],
   "source": [
    "df = df[['username', 'name','likes_count', 'urls','mentions','tweet','photos','replies_count','retweets_count','link','quote_url','video','new_date','new_time','Categories']]"
   ]
  },
  {
   "cell_type": "code",
   "execution_count": 18,
   "metadata": {},
   "outputs": [],
   "source": [
    "bigdata = pd.concat([df2, df], ignore_index=True, sort=False)"
   ]
  },
  {
   "cell_type": "code",
   "execution_count": 20,
   "metadata": {},
   "outputs": [
    {
     "data": {
      "text/plain": [
       "Buzzer    1143\n",
       "non        657\n",
       "Name: Categories, dtype: int64"
      ]
     },
     "execution_count": 20,
     "metadata": {},
     "output_type": "execute_result"
    }
   ],
   "source": [
    "bigdata['Categories'].value_counts()"
   ]
  },
  {
   "cell_type": "code",
   "execution_count": 21,
   "metadata": {},
   "outputs": [],
   "source": [
    "bigdata.to_csv('lengkap.csv',index=False )"
   ]
  },
  {
   "cell_type": "code",
   "execution_count": 22,
   "metadata": {},
   "outputs": [
    {
     "data": {
      "text/plain": [
       "486"
      ]
     },
     "execution_count": 22,
     "metadata": {},
     "output_type": "execute_result"
    }
   ],
   "source": [
    "1143-657"
   ]
  },
  {
   "cell_type": "code",
   "execution_count": 17,
   "metadata": {},
   "outputs": [],
   "source": [
    "import pandas as pd\n",
    "nn = pd.read_csv('lengkap.csv')"
   ]
  },
  {
   "cell_type": "code",
   "execution_count": 18,
   "metadata": {},
   "outputs": [
    {
     "data": {
      "text/plain": [
       "1801"
      ]
     },
     "execution_count": 18,
     "metadata": {},
     "output_type": "execute_result"
    }
   ],
   "source": [
    "len(nn)"
   ]
  },
  {
   "cell_type": "code",
   "execution_count": 3,
   "metadata": {},
   "outputs": [
    {
     "data": {
      "text/plain": [
       "Buzzer    1143\n",
       "non        657\n",
       "Name: Categories, dtype: int64"
      ]
     },
     "execution_count": 3,
     "metadata": {},
     "output_type": "execute_result"
    }
   ],
   "source": [
    "nn['Categories'].value_counts()"
   ]
  },
  {
   "cell_type": "code",
   "execution_count": 4,
   "metadata": {},
   "outputs": [],
   "source": [
    "df=pd.read_excel('tidak.xlsx')"
   ]
  },
  {
   "cell_type": "code",
   "execution_count": 8,
   "metadata": {},
   "outputs": [],
   "source": [
    "df['created_at'] = pd.to_datetime(df['created_at'], errors='coerce', format='%Y-%m-%d %H:%M:%S')\n"
   ]
  },
  {
   "cell_type": "code",
   "execution_count": 9,
   "metadata": {},
   "outputs": [],
   "source": [
    "df['new_date'] = [d.date() for d in df['created_at']]"
   ]
  },
  {
   "cell_type": "code",
   "execution_count": 12,
   "metadata": {},
   "outputs": [],
   "source": [
    "df = df[['username', 'name','likes_count', 'urls','mentions','tweet','photos','replies_count','retweets_count','link','quote_url','video','Categories']]"
   ]
  },
  {
   "cell_type": "code",
   "execution_count": 13,
   "metadata": {},
   "outputs": [
    {
     "data": {
      "text/plain": [
       "998"
      ]
     },
     "execution_count": 13,
     "metadata": {},
     "output_type": "execute_result"
    }
   ],
   "source": [
    "len(df)"
   ]
  },
  {
   "cell_type": "code",
   "execution_count": 19,
   "metadata": {},
   "outputs": [],
   "source": [
    "nn = nn[['username', 'name','likes_count', 'urls','mentions','tweet','photos','replies_count','retweets_count','link','quote_url','video','Categories']]"
   ]
  },
  {
   "cell_type": "code",
   "execution_count": 20,
   "metadata": {},
   "outputs": [
    {
     "data": {
      "text/plain": [
       "1801"
      ]
     },
     "execution_count": 20,
     "metadata": {},
     "output_type": "execute_result"
    }
   ],
   "source": [
    "len(nn)"
   ]
  },
  {
   "cell_type": "code",
   "execution_count": 21,
   "metadata": {},
   "outputs": [],
   "source": [
    "bigdata = pd.concat([df, nn], ignore_index=True, sort=False)"
   ]
  },
  {
   "cell_type": "code",
   "execution_count": 22,
   "metadata": {},
   "outputs": [
    {
     "data": {
      "text/plain": [
       "2799"
      ]
     },
     "execution_count": 22,
     "metadata": {},
     "output_type": "execute_result"
    }
   ],
   "source": [
    "len(bigdata)"
   ]
  },
  {
   "cell_type": "code",
   "execution_count": 23,
   "metadata": {},
   "outputs": [
    {
     "data": {
      "text/plain": [
       "Buzzer    1414\n",
       "non       1384\n",
       "Name: Categories, dtype: int64"
      ]
     },
     "execution_count": 23,
     "metadata": {},
     "output_type": "execute_result"
    }
   ],
   "source": [
    "bigdata['Categories'].value_counts()"
   ]
  },
  {
   "cell_type": "code",
   "execution_count": 25,
   "metadata": {},
   "outputs": [],
   "source": [
    "bigdata.to_csv('lengkap_banget.csv')"
   ]
  },
  {
   "cell_type": "code",
   "execution_count": 47,
   "metadata": {},
   "outputs": [],
   "source": [
    "df=pd.read_csv(\"df3.csv\")\n"
   ]
  },
  {
   "cell_type": "code",
   "execution_count": 45,
   "metadata": {},
   "outputs": [],
   "source": [
    "df3=pd.DataFrame(df)"
   ]
  },
  {
   "cell_type": "code",
   "execution_count": null,
   "metadata": {},
   "outputs": [],
   "source": []
  },
  {
   "cell_type": "code",
   "execution_count": 46,
   "metadata": {},
   "outputs": [],
   "source": [
    "df.to_csv('df3.csv',index=False)"
   ]
  },
  {
   "cell_type": "code",
   "execution_count": 48,
   "metadata": {},
   "outputs": [
    {
     "data": {
      "text/plain": [
       "Index(['username', 'name', 'likes_count', 'urls', 'mentions', 'tweet',\n",
       "       'photos', 'replies_count', 'retweets_count', 'link', 'quote_url',\n",
       "       'video', 'hashtag', 'hashtag_count', 'Categories', 'clean'],\n",
       "      dtype='object')"
      ]
     },
     "execution_count": 48,
     "metadata": {},
     "output_type": "execute_result"
    }
   ],
   "source": [
    "df3.columns"
   ]
  },
  {
   "cell_type": "code",
   "execution_count": 49,
   "metadata": {},
   "outputs": [],
   "source": [
    "df3=df3[['username', 'name', 'likes_count', 'urls', 'mentions', 'tweet',\n",
    "       'photos', 'replies_count', 'retweets_count', 'link', 'quote_url',\n",
    "       'video', 'hashtag', 'hashtag_count', 'Categories']]"
   ]
  },
  {
   "cell_type": "code",
   "execution_count": 50,
   "metadata": {},
   "outputs": [],
   "source": [
    "df2=pd.read_csv('1.csv')"
   ]
  },
  {
   "cell_type": "code",
   "execution_count": 51,
   "metadata": {},
   "outputs": [
    {
     "data": {
      "text/plain": [
       "1001"
      ]
     },
     "execution_count": 51,
     "metadata": {},
     "output_type": "execute_result"
    }
   ],
   "source": [
    "len(df2)"
   ]
  },
  {
   "cell_type": "code",
   "execution_count": 52,
   "metadata": {},
   "outputs": [
    {
     "data": {
      "text/plain": [
       "Index(['username', 'name', 'likes_count', 'urls', 'mentions', 'tweet',\n",
       "       'photos', 'replies_count', 'retweets_count', 'link', 'quote_url',\n",
       "       'video', 'hashtag', 'hashtag_count', 'Categories'],\n",
       "      dtype='object')"
      ]
     },
     "execution_count": 52,
     "metadata": {},
     "output_type": "execute_result"
    }
   ],
   "source": [
    "df2.columns"
   ]
  },
  {
   "cell_type": "code",
   "execution_count": 53,
   "metadata": {},
   "outputs": [],
   "source": [
    "bigdata = pd.concat([df3, df2], ignore_index=True, sort=False)"
   ]
  },
  {
   "cell_type": "code",
   "execution_count": 55,
   "metadata": {},
   "outputs": [],
   "source": [
    "bigdata.to_csv('Dataframe.csv',index=False)"
   ]
  },
  {
   "cell_type": "code",
   "execution_count": null,
   "metadata": {},
   "outputs": [],
   "source": []
  }
 ],
 "metadata": {
  "kernelspec": {
   "display_name": "Python 3",
   "language": "python",
   "name": "python3"
  },
  "language_info": {
   "codemirror_mode": {
    "name": "ipython",
    "version": 3
   },
   "file_extension": ".py",
   "mimetype": "text/x-python",
   "name": "python",
   "nbconvert_exporter": "python",
   "pygments_lexer": "ipython3",
   "version": "3.8.3"
  }
 },
 "nbformat": 4,
 "nbformat_minor": 4
}
