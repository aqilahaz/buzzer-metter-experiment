{
 "cells": [
  {
   "cell_type": "code",
   "execution_count": 19,
   "metadata": {},
   "outputs": [],
   "source": [
    "#TFIDF Vectorizer for Tweet\n",
    "import pandas as pd\n",
    "from sklearn.feature_extraction.text import TfidfVectorizer\n",
    "from textblob import TextBlob\n",
    "from sklearn.feature_extraction.text import CountVectorizer, TfidfTransformer\n",
    "from sklearn.naive_bayes import MultinomialNB\n",
    "# from sklearn.svm import SVC, LinearSVC\n",
    "from sklearn.metrics import classification_report, f1_score, accuracy_score, confusion_matrix\n",
    "from sklearn.pipeline import Pipeline\n",
    "from sklearn.model_selection import GridSearchCV\n",
    "from sklearn.model_selection import StratifiedKFold, cross_val_score, train_test_split \n",
    "# from sklearn.tree import DecisionTreeClassifier "
   ]
  },
  {
   "cell_type": "code",
   "execution_count": 20,
   "metadata": {},
   "outputs": [],
   "source": [
    "df=pd.read_csv(\"dataset/full.csv\", encoding=\"utf-8\")"
   ]
  },
  {
   "cell_type": "code",
   "execution_count": 21,
   "metadata": {},
   "outputs": [],
   "source": [
    "del df[\"Unnamed: 0\"]"
   ]
  },
  {
   "cell_type": "code",
   "execution_count": 22,
   "metadata": {},
   "outputs": [],
   "source": [
    "# df['hashtag']"
   ]
  },
  {
   "cell_type": "code",
   "execution_count": 23,
   "metadata": {},
   "outputs": [],
   "source": [
    "messages = df[['tweet','Categories']]"
   ]
  },
  {
   "cell_type": "code",
   "execution_count": 24,
   "metadata": {},
   "outputs": [
    {
     "name": "stdout",
     "output_type": "stream",
     "text": [
      "                                               tweet Categories\n",
      "0                                    #WelcomeBackHRS     Buzzer\n",
      "1  Berita kepulangan sang Habib ini menjadi sanga...     Buzzer\n",
      "2  @sohib212reborn Tagarnya #WelcomeBackIBHRS  #W...     Buzzer\n",
      "3  Kesaksian Habib Rizieq  https://t.co/Ep6R7a4dO...     Buzzer\n",
      "4                 #WelcomeBackHRS  #WelcomeHomeIBHRS     Buzzer\n"
     ]
    }
   ],
   "source": [
    "print(messages[:5])"
   ]
  },
  {
   "cell_type": "code",
   "execution_count": 25,
   "metadata": {},
   "outputs": [],
   "source": [
    "def split_into_tokens(message):\n",
    "    message = message  # convert bytes into proper unicode\n",
    "    return TextBlob(message).words"
   ]
  },
  {
   "cell_type": "code",
   "execution_count": 26,
   "metadata": {},
   "outputs": [
    {
     "data": {
      "text/plain": [
       "0                                       [WelcomeBackHRS]\n",
       "1      [Berita, kepulangan, sang, Habib, ini, menjadi...\n",
       "2      [sohib212reborn, Tagarnya, WelcomeBackIBHRS, W...\n",
       "3      [Kesaksian, Habib, Rizieq, https, t.co/Ep6R7a4...\n",
       "4                     [WelcomeBackHRS, WelcomeHomeIBHRS]\n",
       "                             ...                        \n",
       "795      [Selamat, Datang, Kembali, HRS, WelcomeBackHRS]\n",
       "796    [RomitsuT, Alhamdulillah, terimakasih, mas, pe...\n",
       "797    [https, t.co/cqeEQfh7RL, Menyambut, Habib, Riz...\n",
       "798    [Kenapa, di, trending, WelcomeBackHRS, dll, ny...\n",
       "799    [Sudah, tak, ada, kata2, yg, sanggup, kami, Lo...\n",
       "Name: tweet, Length: 800, dtype: object"
      ]
     },
     "execution_count": 26,
     "metadata": {},
     "output_type": "execute_result"
    }
   ],
   "source": [
    "messages.tweet.apply(split_into_tokens)"
   ]
  },
  {
   "cell_type": "code",
   "execution_count": 27,
   "metadata": {},
   "outputs": [
    {
     "data": {
      "text/plain": [
       "0                                       [welcomebackhrs]\n",
       "1      [berita, kepulangan, sang, habib, ini, menjadi...\n",
       "2      [sohib212reborn, tagarnya, welcomebackibhrs, w...\n",
       "3      [kesaksian, habib, rizieq, http, t.co/ep6r7a4d...\n",
       "4                     [welcomebackhrs, welcomehomeibhrs]\n",
       "                             ...                        \n",
       "795       [selamat, datang, kembali, hr, welcomebackhrs]\n",
       "796    [romitsut, alhamdulillah, terimakasih, ma, per...\n",
       "797    [http, t.co/cqeeqfh7rl, menyambut, habib, rizi...\n",
       "798    [kenapa, di, trending, welcomebackhrs, dll, ny...\n",
       "799    [sudah, tak, ada, kata2, yg, sanggup, kami, lo...\n",
       "Name: tweet, Length: 800, dtype: object"
      ]
     },
     "execution_count": 27,
     "metadata": {},
     "output_type": "execute_result"
    }
   ],
   "source": [
    "def split_into_lemmas(message):\n",
    "    message = message.lower()\n",
    "    words = TextBlob(message).words\n",
    "    # for each word, take its \"base form\" = lemma \n",
    "    return [word.lemma for word in words]\n",
    "\n",
    "messages.tweet.apply(split_into_lemmas)"
   ]
  },
  {
   "cell_type": "code",
   "execution_count": 17,
   "metadata": {},
   "outputs": [
    {
     "name": "stdout",
     "output_type": "stream",
     "text": [
      "3601\n",
      "[\"'alaihi\", \"'alannabi\", \"'baik-baik\", \"'orangtua\", \"'real\"]\n"
     ]
    }
   ],
   "source": [
    "bow_transformer = CountVectorizer(analyzer=split_into_lemmas).fit(messages['tweet'])\n",
    "print(len(bow_transformer.vocabulary_))\n",
    "print(bow_transformer.get_feature_names()[:5])"
   ]
  },
  {
   "cell_type": "code",
   "execution_count": 79,
   "metadata": {},
   "outputs": [
    {
     "name": "stdout",
     "output_type": "stream",
     "text": [
      "sparse matrix shape: (800, 3601)\n",
      "number of non-zeros: 9125\n",
      "sparsity: 0.32%\n"
     ]
    }
   ],
   "source": [
    "messages_bow = bow_transformer.transform(messages['tweet'])\n",
    "print('sparse matrix shape:', messages_bow.shape)\n",
    "print('number of non-zeros:', messages_bow.nnz)\n",
    "print('sparsity: %.2f%%' % (100.0 * messages_bow.nnz / (messages_bow.shape[0] * messages_bow.shape[1])))"
   ]
  },
  {
   "cell_type": "code",
   "execution_count": 80,
   "metadata": {},
   "outputs": [],
   "source": [
    "tfidf_transformer = TfidfTransformer().fit(messages_bow)"
   ]
  },
  {
   "cell_type": "code",
   "execution_count": 81,
   "metadata": {},
   "outputs": [
    {
     "name": "stdout",
     "output_type": "stream",
     "text": [
      "(800, 3601)\n"
     ]
    }
   ],
   "source": [
    "messages_tfidf = tfidf_transformer.transform(messages_bow)\n",
    "print(messages_tfidf.shape)"
   ]
  },
  {
   "cell_type": "code",
   "execution_count": 82,
   "metadata": {},
   "outputs": [
    {
     "name": "stdout",
     "output_type": "stream",
     "text": [
      "Wall time: 8.98 ms\n"
     ]
    }
   ],
   "source": [
    "%time spam_detector = MultinomialNB().fit(messages_tfidf, messages['Categories'])"
   ]
  },
  {
   "cell_type": "code",
   "execution_count": 83,
   "metadata": {},
   "outputs": [],
   "source": [
    "all_predictions = spam_detector.predict(messages_tfidf)"
   ]
  },
  {
   "cell_type": "code",
   "execution_count": 84,
   "metadata": {},
   "outputs": [
    {
     "name": "stdout",
     "output_type": "stream",
     "text": [
      "Accuracy on training set:  98.00%\n"
     ]
    }
   ],
   "source": [
    "tr_acc = accuracy_score(messages['Categories'], all_predictions)\n",
    "print(\"Accuracy on training set:  %.2f%%\" % (100 * tr_acc))"
   ]
  },
  {
   "cell_type": "code",
   "execution_count": 85,
   "metadata": {},
   "outputs": [
    {
     "data": {
      "text/plain": [
       "[Text(10.5, 0.5, 'Expected Value'), Text(0.5, 1.5, 'Predicted Value')]"
      ]
     },
     "execution_count": 85,
     "metadata": {},
     "output_type": "execute_result"
    },
    {
     "data": {
      "image/png": "[encoded data removed]",
      "text/plain": [
       "<Figure size 252x180 with 2 Axes>"
      ]
     },
     "metadata": {
      "needs_background": "light"
     },
     "output_type": "display_data"
    }
   ],
   "source": [
    "import matplotlib.pyplot as plt\n",
    "import seaborn as sns\n",
    "fig, ax = plt.subplots(figsize=(3.5,2.5))\n",
    "sns.heatmap(confusion_matrix(messages['Categories'], all_predictions), annot=True, linewidths=.5, ax=ax, cmap=\"Blues\", fmt=\"d\").set(xlabel='Predicted Value', ylabel='Expected Value')"
   ]
  },
  {
   "cell_type": "code",
   "execution_count": 86,
   "metadata": {},
   "outputs": [
    {
     "name": "stdout",
     "output_type": "stream",
     "text": [
      "              precision    recall  f1-score   support\n",
      "\n",
      "      Buzzer       0.97      0.99      0.98       400\n",
      "         non       0.99      0.96      0.98       400\n",
      "\n",
      "    accuracy                           0.98       800\n",
      "   macro avg       0.98      0.98      0.98       800\n",
      "weighted avg       0.98      0.98      0.98       800\n",
      "\n"
     ]
    }
   ],
   "source": [
    "print(classification_report(messages['Categories'], all_predictions))"
   ]
  },
  {
   "cell_type": "code",
   "execution_count": 87,
   "metadata": {},
   "outputs": [
    {
     "name": "stdout",
     "output_type": "stream",
     "text": [
      "640 160 800\n"
     ]
    }
   ],
   "source": [
    "msg_train, msg_test, label_train, label_test = \\\n",
    "    train_test_split(messages['tweet'], messages['Categories'], test_size=0.2, random_state=1)\n",
    "\n",
    "print(len(msg_train), len(msg_test), len(msg_train) + len(msg_test))"
   ]
  },
  {
   "cell_type": "code",
   "execution_count": 88,
   "metadata": {},
   "outputs": [],
   "source": [
    "pipeline = Pipeline([\n",
    "    ('bow', CountVectorizer(analyzer=split_into_lemmas)),  # strings to token integer counts\n",
    "    ('tfidf', TfidfTransformer()),  # integer counts to weighted TF-IDF scores\n",
    "    ('classifier', MultinomialNB()),  # train on TF-IDF vectors w/ Naive Bayes classifier\n",
    "])"
   ]
  },
  {
   "cell_type": "code",
   "execution_count": 89,
   "metadata": {},
   "outputs": [
    {
     "name": "stdout",
     "output_type": "stream",
     "text": [
      "[0.921875 0.921875 0.984375 0.953125 0.90625  0.9375   0.875    0.921875\n",
      " 0.890625 0.953125]\n"
     ]
    }
   ],
   "source": [
    "scores = cross_val_score(pipeline,  # steps to convert raw messages into models\n",
    "                         msg_train,  # training data\n",
    "                         label_train,  # training labels\n",
    "                         cv=10,  # split data randomly into 10 parts: 9 for training, 1 for scoring\n",
    "                         scoring='accuracy',  # which scoring metric?\n",
    "                         n_jobs=-1,  # -1 = use all cores = faster\n",
    "                         )\n",
    "print(scores)"
   ]
  },
  {
   "cell_type": "code",
   "execution_count": 90,
   "metadata": {},
   "outputs": [
    {
     "name": "stdout",
     "output_type": "stream",
     "text": [
      "Mean score: 0.9265625 \n",
      "\n",
      "Stdev: 0.030498783274911147\n"
     ]
    }
   ],
   "source": [
    "print('Mean score:', scores.mean(), '\\n')\n",
    "print('Stdev:', scores.std())"
   ]
  },
  {
   "cell_type": "code",
   "execution_count": 91,
   "metadata": {},
   "outputs": [
    {
     "name": "stdout",
     "output_type": "stream",
     "text": [
      "Wall time: 3.84 s\n",
      "{'mean_fit_time': array([0.6204175 , 0.60986943, 0.47801318, 0.49363313]), 'std_fit_time': array([0.01773236, 0.02586435, 0.0272374 , 0.01874466]), 'mean_score_time': array([0.16636705, 0.13454981, 0.11247196, 0.11248736]), 'std_score_time': array([0.01747309, 0.00613099, 0.01168896, 0.01167656]), 'param_bow__analyzer': masked_array(data=[<function split_into_lemmas at 0x00000136FFDD3790>,\n",
      "                   <function split_into_lemmas at 0x00000136FFDD3790>,\n",
      "                   <function split_into_tokens at 0x00000136FFBBD9D0>,\n",
      "                   <function split_into_tokens at 0x00000136FFBBD9D0>],\n",
      "             mask=[False, False, False, False],\n",
      "       fill_value='?',\n",
      "            dtype=object), 'param_tfidf__use_idf': masked_array(data=[True, False, True, False],\n",
      "             mask=[False, False, False, False],\n",
      "       fill_value='?',\n",
      "            dtype=object), 'params': [{'bow__analyzer': <function split_into_lemmas at 0x00000136FFDD3790>, 'tfidf__use_idf': True}, {'bow__analyzer': <function split_into_lemmas at 0x00000136FFDD3790>, 'tfidf__use_idf': False}, {'bow__analyzer': <function split_into_tokens at 0x00000136FFBBD9D0>, 'tfidf__use_idf': True}, {'bow__analyzer': <function split_into_tokens at 0x00000136FFBBD9D0>, 'tfidf__use_idf': False}], 'split0_test_score': array([0.9140625, 0.921875 , 0.921875 , 0.9375   ]), 'split1_test_score': array([0.96875  , 0.953125 , 0.96875  , 0.9453125]), 'split2_test_score': array([0.9375   , 0.953125 , 0.953125 , 0.9609375]), 'split3_test_score': array([0.890625 , 0.875    , 0.8984375, 0.875    ]), 'split4_test_score': array([0.9296875, 0.9296875, 0.9296875, 0.921875 ]), 'mean_test_score': array([0.928125 , 0.9265625, 0.934375 , 0.928125 ]), 'std_test_score': array([0.02586398, 0.0286411 , 0.02450685, 0.02939826]), 'rank_test_score': array([2, 4, 1, 2])}\n"
     ]
    }
   ],
   "source": [
    "params = {\n",
    "    'tfidf__use_idf': (True, False),\n",
    "    'bow__analyzer': (split_into_lemmas, split_into_tokens),\n",
    "}\n",
    "\n",
    "grid = GridSearchCV(\n",
    "    pipeline,  # pipeline from above\n",
    "    params,  # parameters to tune via cross validation\n",
    "    refit=True,  # fit using all available data at the end, on the best found param combination\n",
    "    n_jobs=-1,  # number of cores to use for parallelization; -1 for \"all cores\"\n",
    "    scoring='accuracy',  # what score are we optimizing?\n",
    "    cv=StratifiedKFold(n_splits=5) # what type of cross validation to use\n",
    ")\n",
    "\n",
    "%time nb_detector = grid.fit(msg_train, label_train)\n",
    "print(nb_detector.cv_results_)"
   ]
  },
  {
   "cell_type": "code",
   "execution_count": 92,
   "metadata": {},
   "outputs": [
    {
     "name": "stdout",
     "output_type": "stream",
     "text": [
      "              precision    recall  f1-score   support\n",
      "\n",
      "      Buzzer       0.93      0.99      0.96        76\n",
      "         non       0.99      0.93      0.96        84\n",
      "\n",
      "    accuracy                           0.96       160\n",
      "   macro avg       0.96      0.96      0.96       160\n",
      "weighted avg       0.96      0.96      0.96       160\n",
      "\n"
     ]
    }
   ],
   "source": [
    "predictions = nb_detector.predict(msg_test)\n",
    "print(classification_report(label_test, predictions))"
   ]
  },
  {
   "cell_type": "code",
   "execution_count": 93,
   "metadata": {},
   "outputs": [
    {
     "data": {
      "text/plain": [
       "[Text(10.5, 0.5, 'Expected Value'), Text(0.5, 1.5, 'Predicted Value')]"
      ]
     },
     "execution_count": 93,
     "metadata": {},
     "output_type": "execute_result"
    },
    {
     "data": {
      "image/png": "[encoded data removed]",
      "text/plain": [
       "<Figure size 252x180 with 2 Axes>"
      ]
     },
     "metadata": {
      "needs_background": "light"
     },
     "output_type": "display_data"
    }
   ],
   "source": [
    "fig, ax = plt.subplots(figsize=(3.5,2.5))\n",
    "sns.heatmap(confusion_matrix(label_test, predictions), annot=True, linewidths=.5, ax=ax, cmap=\"Blues\", fmt=\"d\").set(xlabel='Predicted Value', ylabel='Expected Value')\n"
   ]
  },
  {
   "cell_type": "code",
   "execution_count": 94,
   "metadata": {},
   "outputs": [
    {
     "name": "stdout",
     "output_type": "stream",
     "text": [
      "Accuracy on test set:  92.81%\n"
     ]
    }
   ],
   "source": [
    "print(\"Accuracy on test set:  %.2f%%\" % (100 * (nb_detector.cv_results_['mean_test_score'][0])))"
   ]
  },
  {
   "cell_type": "markdown",
   "metadata": {},
   "source": [
    "# New Data"
   ]
  },
  {
   "cell_type": "code",
   "execution_count": 56,
   "metadata": {},
   "outputs": [],
   "source": [
    "data=pd.read_csv(\"tidak.csv\")\n",
    "data=data.iloc[:5]"
   ]
  },
  {
   "cell_type": "code",
   "execution_count": 58,
   "metadata": {},
   "outputs": [
    {
     "data": {
      "text/plain": [
       "0    Bisa-bisanya temen gue presentasi typo jadi \"t...\n",
       "1    @HolmesTowns bagaimana jika mrs shampo pantine...\n",
       "2    @jntexpressid Besok Checkout Pakai JNT  Alasan...\n",
       "3    Cinta itu tidak selalu melekat pada kebersamaa...\n",
       "4    Tuhan, maafkan kami yg tidak bisa menjaga titi...\n",
       "Name: tweet, dtype: object"
      ]
     },
     "execution_count": 58,
     "metadata": {},
     "output_type": "execute_result"
    }
   ],
   "source": [
    "data['tweet']"
   ]
  },
  {
   "cell_type": "code",
   "execution_count": 65,
   "metadata": {},
   "outputs": [],
   "source": [
    "my_1st_tweet = 'Cinta itu tidak selalu melekat'\n",
    "my_2nd_tweet = '@jejejk kamu kemana ulama Habib #WelcomeBackHRS'"
   ]
  },
  {
   "cell_type": "code",
   "execution_count": 63,
   "metadata": {},
   "outputs": [
    {
     "name": "stdout",
     "output_type": "stream",
     "text": [
      "Tweet #1: ' Cinta itu tidak selalu melekat '  \n",
      " \n",
      " I'm about 80% sure this was tweeted by non\n"
     ]
    }
   ],
   "source": [
    "print(\"Tweet #1:\", \"'\",my_1st_tweet, \"'\", ' \\n \\n', \"I'm about %.0f%%\" % (100 * max(nb_detector.predict_proba([my_1st_tweet])[0])), \"sure this was tweeted by\", nb_detector.predict([my_1st_tweet])[0])"
   ]
  },
  {
   "cell_type": "code",
   "execution_count": 66,
   "metadata": {},
   "outputs": [
    {
     "name": "stdout",
     "output_type": "stream",
     "text": [
      "Tweet #2: ' @jejejk kamu kemana ulama Habib #WelcomeBackHRS '  \n",
      " \n",
      " I'm about 52% sure this was tweeted by Buzzer\n"
     ]
    }
   ],
   "source": [
    "print(\"Tweet #2:\", \"'\",my_2nd_tweet, \"'\", ' \\n \\n', \"I'm about %.0f%%\" % (100 * max(nb_detector.predict_proba([my_2nd_tweet])[0])), \"sure this was tweeted by\", nb_detector.predict([my_2nd_tweet])[0])"
   ]
  },
  {
   "cell_type": "code",
   "execution_count": null,
   "metadata": {},
   "outputs": [],
   "source": []
  }
 ],
 "metadata": {
  "kernelspec": {
   "display_name": "Python 3",
   "language": "python",
   "name": "python3"
  },
  "language_info": {
   "codemirror_mode": {
    "name": "ipython",
    "version": 3
   },
   "file_extension": ".py",
   "mimetype": "text/x-python",
   "name": "python",
   "nbconvert_exporter": "python",
   "pygments_lexer": "ipython3",
   "version": "3.8.3"
  }
 },
 "nbformat": 4,
 "nbformat_minor": 4
}
